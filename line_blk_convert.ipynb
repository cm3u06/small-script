{
 "cells": [
  {
   "cell_type": "code",
   "execution_count": 122,
   "id": "24f58511",
   "metadata": {},
   "outputs": [],
   "source": [
    "w = 512\n",
    "h = 8\n",
    "bw = 4"
   ]
  },
  {
   "cell_type": "code",
   "execution_count": 123,
   "id": "0a39f07e",
   "metadata": {
    "scrolled": false
   },
   "outputs": [
    {
     "name": "stdout",
     "output_type": "stream",
     "text": [
      "[Pass 0] done !\n",
      "[Pass 1] done !\n",
      "[Pass 2] done !\n",
      "[Pass 3] done !\n",
      "[Pass 4] done !\n",
      "[Pass 5] done !\n",
      "[Pass 6] done !\n",
      "[Pass 7] done !\n",
      "[Pass 8] done !\n",
      "[Pass 9] done !\n"
     ]
    }
   ],
   "source": [
    "init_array = [[v+r*w for v in range(w)] for r in range(h)]\n",
    "\n",
    "def print_2d_list(arr):\n",
    "    for r in range(h):\n",
    "        print(' '.join([f'{arr[r][c]}' for c in range(w)]))\n",
    "\n",
    "\n",
    "def scan_line2blk(arr):\n",
    "    blk_arr = []\n",
    "    for blk_c in range(0,w,bw):\n",
    "        for r in range(h):\n",
    "            for k in range(bw):\n",
    "                blk_arr.append(arr[r][blk_c+k])\n",
    "    return blk_arr\n",
    "\n",
    "def blk_to_2d(blk_arr):\n",
    "    return [[blk_arr[i+j*w] for i in range(w)] for j in range(h)]\n",
    "\n",
    "\n",
    "\n",
    "next_array = init_array\n",
    "iteration = 0\n",
    "\n",
    "with open('l2b.v','w') as f:\n",
    "    while (iteration == 0 or init_array != next_array):\n",
    "        f.write('// iteration {}\\n'.format(iteration))\n",
    "        \n",
    "        for r in range(h):\n",
    "            for c in range(w):\n",
    "                i=r*w+c\n",
    "                f.write(f'12\\'d{i:5d} : addr = {next_array[r][c]:4d};\\n')\n",
    "        \n",
    "        \n",
    "        blk_order = scan_line2blk(next_array)\n",
    "        \n",
    "        \n",
    "        next_array = blk_to_2d(blk_order)\n",
    "        \n",
    "        f.write('\\n')\n",
    "\n",
    "        print (f'[Pass {iteration}] done !')\n",
    "        \n",
    "\n",
    "        if iteration > 50:\n",
    "            print('Too large iteration !')\n",
    "            break\n",
    "        iteration+=1"
   ]
  },
  {
   "cell_type": "code",
   "execution_count": 124,
   "id": "40b56acb",
   "metadata": {
    "scrolled": false
   },
   "outputs": [
    {
     "name": "stdout",
     "output_type": "stream",
     "text": [
      "[Pass 0] done !\n",
      "[Pass 1] done !\n",
      "[Pass 2] done !\n",
      "[Pass 3] done !\n",
      "[Pass 4] done !\n",
      "[Pass 5] done !\n",
      "[Pass 6] done !\n",
      "[Pass 7] done !\n",
      "[Pass 8] done !\n",
      "[Pass 9] done !\n"
     ]
    }
   ],
   "source": [
    "\n",
    "\n",
    "init_array = [[[k+j*bw+i*h for k in range(bw)] for j in range(h)] for i in range(0,w,bw)]\n",
    "\n",
    "def read_blk2line(arr):\n",
    "    order = []\n",
    "    for y in range(h):\n",
    "        for x in range(w):\n",
    "            order.append(arr[int(x/bw)][y][x%bw])\n",
    "    return order\n",
    "\n",
    "def line2blk(line_order):\n",
    "    return [[[line_order[k+j*bw+i*h*bw] for k in range(bw)] for j in range(h)] for i in range(int(w/bw))]\n",
    "\n",
    "def write_b2l_case(f, arr, iteration):\n",
    "    f.write('// iteration {}\\n'.format(iteration))\n",
    "    for i in range(int(w/bw)):\n",
    "        for j in range(h):\n",
    "            for k in range(bw):\n",
    "                f.write(f'12\\'d{i*h*bw+j*bw+k:5d} : addr = {arr[i][j][k]:5d};\\n')\n",
    "    f.write('\\n')\n",
    "    \n",
    "\n",
    "    \n",
    "    \n",
    "next_array = init_array\n",
    "iteration = 0\n",
    "\n",
    "\n",
    "with open('b2l.v','w') as f:\n",
    "    while iteration == 0 or init_array != next_array:\n",
    "\n",
    "\n",
    "        write_b2l_case(f, next_array, iteration)\n",
    "\n",
    "\n",
    "        read_order = read_blk2line(next_array)\n",
    "        next_array = line2blk(read_order)\n",
    "\n",
    "\n",
    "        print(f'[Pass {iteration}] done !')\n",
    "        if iteration > 50:\n",
    "            print('Too many iterations !')\n",
    "            break\n",
    "        iteration +=1"
   ]
  },
  {
   "cell_type": "code",
   "execution_count": null,
   "id": "7d8b8df5",
   "metadata": {},
   "outputs": [],
   "source": []
  }
 ],
 "metadata": {
  "kernelspec": {
   "display_name": "Python 3 (ipykernel)",
   "language": "python",
   "name": "python3"
  },
  "language_info": {
   "codemirror_mode": {
    "name": "ipython",
    "version": 3
   },
   "file_extension": ".py",
   "mimetype": "text/x-python",
   "name": "python",
   "nbconvert_exporter": "python",
   "pygments_lexer": "ipython3",
   "version": "3.9.7"
  }
 },
 "nbformat": 4,
 "nbformat_minor": 5
}
